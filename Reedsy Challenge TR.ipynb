{
 "cells": [
  {
   "cell_type": "code",
   "execution_count": 28,
   "id": "34ec2cf1",
   "metadata": {},
   "outputs": [],
   "source": [
    "import pandas as pd\n",
    "import os\n",
    "from ast import literal_eval"
   ]
  },
  {
   "cell_type": "code",
   "execution_count": 29,
   "id": "5a10e382",
   "metadata": {},
   "outputs": [
    {
     "data": {
      "text/plain": [
       "'/home/tomoswynroberts/reedsy-challenge-data'"
      ]
     },
     "execution_count": 29,
     "metadata": {},
     "output_type": "execute_result"
    }
   ],
   "source": [
    "os.getcwd()"
   ]
  },
  {
   "cell_type": "code",
   "execution_count": 30,
   "id": "7d68d16e",
   "metadata": {},
   "outputs": [],
   "source": [
    "# adding literal_eval conversion to the concatenated column to read as list\n",
    "reedsy_df = pd.read_csv(\"data/dataset.tsv\", sep = '\\t' \\\n",
    "                        ,converters = {'popup_version|start_date|popup_category': literal_eval})"
   ]
  },
  {
   "cell_type": "code",
   "execution_count": 32,
   "id": "c82767f3",
   "metadata": {
    "scrolled": true
   },
   "outputs": [
    {
     "data": {
      "text/html": [
       "<div>\n",
       "<style scoped>\n",
       "    .dataframe tbody tr th:only-of-type {\n",
       "        vertical-align: middle;\n",
       "    }\n",
       "\n",
       "    .dataframe tbody tr th {\n",
       "        vertical-align: top;\n",
       "    }\n",
       "\n",
       "    .dataframe thead th {\n",
       "        text-align: right;\n",
       "    }\n",
       "</style>\n",
       "<table border=\"1\" class=\"dataframe\">\n",
       "  <thead>\n",
       "    <tr style=\"text-align: right;\">\n",
       "      <th></th>\n",
       "      <th>popup_name</th>\n",
       "      <th>blog_post_url</th>\n",
       "      <th>popup_version|start_date|popup_category</th>\n",
       "      <th>popup_header</th>\n",
       "      <th>popup_description</th>\n",
       "      <th>popup_image_url</th>\n",
       "      <th>popup_title</th>\n",
       "      <th>views</th>\n",
       "      <th>registrations</th>\n",
       "    </tr>\n",
       "  </thead>\n",
       "  <tbody>\n",
       "    <tr>\n",
       "      <th>0</th>\n",
       "      <td>Author Bio Template 2 (New Style)</td>\n",
       "      <td>https://blog.bookly.com/about-the-author-examp...</td>\n",
       "      <td>[A, 2020-05-01, Perfecting your Craft]</td>\n",
       "      <td>\\nFREE: Author Bio Template</td>\n",
       "      <td>Download a copy and write your bio in under 5 ...</td>\n",
       "      <td>https://d2ybmm5cpznb3i.cloudfront.net/wp-conte...</td>\n",
       "      <td>About the Author Examples (That You'll Actuall...</td>\n",
       "      <td>1554</td>\n",
       "      <td>70</td>\n",
       "    </tr>\n",
       "    <tr>\n",
       "      <th>1</th>\n",
       "      <td>Author Bio Template 2 (New Style)</td>\n",
       "      <td>https://blog.bookly.com/about-the-author-examp...</td>\n",
       "      <td>[A, 2020-06-05, Perfecting your Craft]</td>\n",
       "      <td>\\nFREE: Author Bio Template</td>\n",
       "      <td>Download a copy and write your bio in under 5 ...</td>\n",
       "      <td>https://d2ybmm5cpznb3i.cloudfront.net/wp-conte...</td>\n",
       "      <td>About the Author Examples (That You'll Actuall...</td>\n",
       "      <td>2667</td>\n",
       "      <td>126</td>\n",
       "    </tr>\n",
       "    <tr>\n",
       "      <th>2</th>\n",
       "      <td>Author Bio Template 2 (New Style)</td>\n",
       "      <td>https://blog.bookly.com/about-the-author-examp...</td>\n",
       "      <td>[A, 2020-05-01, Perfecting your Craft]</td>\n",
       "      <td>\\nFREE: Author Bio Template</td>\n",
       "      <td>Download a copy and write your bio in under 5 ...</td>\n",
       "      <td>https://d2ybmm5cpznb3i.cloudfront.net/wp-conte...</td>\n",
       "      <td>About the Author Examples (That You'll Actuall...</td>\n",
       "      <td>35</td>\n",
       "      <td>0</td>\n",
       "    </tr>\n",
       "  </tbody>\n",
       "</table>\n",
       "</div>"
      ],
      "text/plain": [
       "                          popup_name  \\\n",
       "0  Author Bio Template 2 (New Style)   \n",
       "1  Author Bio Template 2 (New Style)   \n",
       "2  Author Bio Template 2 (New Style)   \n",
       "\n",
       "                                       blog_post_url  \\\n",
       "0  https://blog.bookly.com/about-the-author-examp...   \n",
       "1  https://blog.bookly.com/about-the-author-examp...   \n",
       "2  https://blog.bookly.com/about-the-author-examp...   \n",
       "\n",
       "  popup_version|start_date|popup_category                 popup_header  \\\n",
       "0  [A, 2020-05-01, Perfecting your Craft]  \\nFREE: Author Bio Template   \n",
       "1  [A, 2020-06-05, Perfecting your Craft]  \\nFREE: Author Bio Template   \n",
       "2  [A, 2020-05-01, Perfecting your Craft]  \\nFREE: Author Bio Template   \n",
       "\n",
       "                                   popup_description  \\\n",
       "0  Download a copy and write your bio in under 5 ...   \n",
       "1  Download a copy and write your bio in under 5 ...   \n",
       "2  Download a copy and write your bio in under 5 ...   \n",
       "\n",
       "                                     popup_image_url  \\\n",
       "0  https://d2ybmm5cpznb3i.cloudfront.net/wp-conte...   \n",
       "1  https://d2ybmm5cpznb3i.cloudfront.net/wp-conte...   \n",
       "2  https://d2ybmm5cpznb3i.cloudfront.net/wp-conte...   \n",
       "\n",
       "                                         popup_title  views  registrations  \n",
       "0  About the Author Examples (That You'll Actuall...   1554             70  \n",
       "1  About the Author Examples (That You'll Actuall...   2667            126  \n",
       "2  About the Author Examples (That You'll Actuall...     35              0  "
      ]
     },
     "execution_count": 32,
     "metadata": {},
     "output_type": "execute_result"
    }
   ],
   "source": [
    "reedsy_df.head(3)"
   ]
  },
  {
   "cell_type": "code",
   "execution_count": 33,
   "id": "9e46b7ee",
   "metadata": {},
   "outputs": [
    {
     "data": {
      "text/plain": [
       "(2063, 9)"
      ]
     },
     "execution_count": 33,
     "metadata": {},
     "output_type": "execute_result"
    }
   ],
   "source": [
    "reedsy_df.shape"
   ]
  },
  {
   "cell_type": "code",
   "execution_count": 34,
   "id": "11f551e7",
   "metadata": {},
   "outputs": [
    {
     "data": {
      "text/plain": [
       "Index(['popup_name', 'blog_post_url',\n",
       "       'popup_version|start_date|popup_category', 'popup_header',\n",
       "       'popup_description', 'popup_image_url', 'popup_title', 'views',\n",
       "       'registrations'],\n",
       "      dtype='object')"
      ]
     },
     "execution_count": 34,
     "metadata": {},
     "output_type": "execute_result"
    }
   ],
   "source": [
    "reedsy_df.columns"
   ]
  },
  {
   "cell_type": "code",
   "execution_count": 35,
   "id": "4af4f0d9",
   "metadata": {},
   "outputs": [
    {
     "data": {
      "text/plain": [
       "popup_name                                 object\n",
       "blog_post_url                              object\n",
       "popup_version|start_date|popup_category    object\n",
       "popup_header                               object\n",
       "popup_description                          object\n",
       "popup_image_url                            object\n",
       "popup_title                                object\n",
       "views                                       int64\n",
       "registrations                               int64\n",
       "dtype: object"
      ]
     },
     "execution_count": 35,
     "metadata": {},
     "output_type": "execute_result"
    }
   ],
   "source": [
    "reedsy_df.dtypes"
   ]
  },
  {
   "cell_type": "code",
   "execution_count": 36,
   "id": "6a861c71",
   "metadata": {},
   "outputs": [
    {
     "data": {
      "text/html": [
       "<div>\n",
       "<style scoped>\n",
       "    .dataframe tbody tr th:only-of-type {\n",
       "        vertical-align: middle;\n",
       "    }\n",
       "\n",
       "    .dataframe tbody tr th {\n",
       "        vertical-align: top;\n",
       "    }\n",
       "\n",
       "    .dataframe thead th {\n",
       "        text-align: right;\n",
       "    }\n",
       "</style>\n",
       "<table border=\"1\" class=\"dataframe\">\n",
       "  <thead>\n",
       "    <tr style=\"text-align: right;\">\n",
       "      <th></th>\n",
       "      <th>views</th>\n",
       "      <th>registrations</th>\n",
       "    </tr>\n",
       "  </thead>\n",
       "  <tbody>\n",
       "    <tr>\n",
       "      <th>count</th>\n",
       "      <td>2063.000000</td>\n",
       "      <td>2063.000000</td>\n",
       "    </tr>\n",
       "    <tr>\n",
       "      <th>mean</th>\n",
       "      <td>1285.441590</td>\n",
       "      <td>22.991760</td>\n",
       "    </tr>\n",
       "    <tr>\n",
       "      <th>std</th>\n",
       "      <td>3486.148325</td>\n",
       "      <td>144.024029</td>\n",
       "    </tr>\n",
       "    <tr>\n",
       "      <th>min</th>\n",
       "      <td>21.000000</td>\n",
       "      <td>0.000000</td>\n",
       "    </tr>\n",
       "    <tr>\n",
       "      <th>25%</th>\n",
       "      <td>21.000000</td>\n",
       "      <td>0.000000</td>\n",
       "    </tr>\n",
       "    <tr>\n",
       "      <th>50%</th>\n",
       "      <td>91.000000</td>\n",
       "      <td>0.000000</td>\n",
       "    </tr>\n",
       "    <tr>\n",
       "      <th>75%</th>\n",
       "      <td>994.000000</td>\n",
       "      <td>21.000000</td>\n",
       "    </tr>\n",
       "    <tr>\n",
       "      <th>max</th>\n",
       "      <td>45101.000000</td>\n",
       "      <td>5397.000000</td>\n",
       "    </tr>\n",
       "  </tbody>\n",
       "</table>\n",
       "</div>"
      ],
      "text/plain": [
       "              views  registrations\n",
       "count   2063.000000    2063.000000\n",
       "mean    1285.441590      22.991760\n",
       "std     3486.148325     144.024029\n",
       "min       21.000000       0.000000\n",
       "25%       21.000000       0.000000\n",
       "50%       91.000000       0.000000\n",
       "75%      994.000000      21.000000\n",
       "max    45101.000000    5397.000000"
      ]
     },
     "execution_count": 36,
     "metadata": {},
     "output_type": "execute_result"
    }
   ],
   "source": [
    "reedsy_df.describe()"
   ]
  },
  {
   "cell_type": "code",
   "execution_count": 48,
   "id": "0db7cef3",
   "metadata": {},
   "outputs": [
    {
     "data": {
      "text/plain": [
       "0"
      ]
     },
     "execution_count": 48,
     "metadata": {},
     "output_type": "execute_result"
    }
   ],
   "source": [
    " reedsy_df.isnull().sum().sum()"
   ]
  },
  {
   "cell_type": "code",
   "execution_count": 37,
   "id": "3bfaa63c",
   "metadata": {},
   "outputs": [
    {
     "name": "stdout",
     "output_type": "stream",
     "text": [
      "['A', '2020-05-01', 'Perfecting your Craft']\n",
      "['', '2020-05-27', 'Book Marketing, Understanding Publishing']\n"
     ]
    }
   ],
   "source": [
    "## Check concatenated column\n",
    "print(reedsy_df[\"popup_version|start_date|popup_category\"][0])\n",
    "print(reedsy_df[\"popup_version|start_date|popup_category\"][3])"
   ]
  },
  {
   "cell_type": "code",
   "execution_count": 38,
   "id": "4614a8cd",
   "metadata": {},
   "outputs": [],
   "source": [
    "## Split column:\n",
    "reedsy_df[[\"popup_version\", \"start_date\" , \"popup_category\"]] = \\\n",
    "pd.DataFrame(reedsy_df[\"popup_version|start_date|popup_category\"].tolist(), index = reedsy_df.index)"
   ]
  },
  {
   "cell_type": "code",
   "execution_count": 43,
   "id": "f753d00c",
   "metadata": {},
   "outputs": [
    {
     "data": {
      "text/plain": [
       "(2063, 12)"
      ]
     },
     "execution_count": 43,
     "metadata": {},
     "output_type": "execute_result"
    }
   ],
   "source": [
    "reedsy_df.shape"
   ]
  },
  {
   "cell_type": "code",
   "execution_count": 39,
   "id": "c1f26ae4",
   "metadata": {},
   "outputs": [],
   "source": [
    "## Different approach to splitting without literal approach\n",
    "reedsy_df_1 = pd.read_csv(\"data/dataset.tsv\", sep = '\\t')"
   ]
  },
  {
   "cell_type": "code",
   "execution_count": 40,
   "id": "18646c0e",
   "metadata": {},
   "outputs": [],
   "source": [
    "reedsy_df_1[\"popup_version|start_date|popup_category\"] = \\\n",
    "reedsy_df_1[\"popup_version|start_date|popup_category\"].apply(lambda x:x[2:-2].split('\",\"'))"
   ]
  },
  {
   "cell_type": "code",
   "execution_count": 41,
   "id": "15ffc2d8",
   "metadata": {},
   "outputs": [],
   "source": [
    "reedsy_df_1[[\"popup_version\", \"start_date\" , \"popup_category\"]] = \\\n",
    "pd.DataFrame(reedsy_df_1[\"popup_version|start_date|popup_category\"].tolist(), index = reedsy_df_1.index)"
   ]
  },
  {
   "cell_type": "code",
   "execution_count": 42,
   "id": "aa30bfdf",
   "metadata": {},
   "outputs": [
    {
     "data": {
      "text/plain": [
       "(2063, 12)"
      ]
     },
     "execution_count": 42,
     "metadata": {},
     "output_type": "execute_result"
    }
   ],
   "source": [
    "reedsy_df_1.shape"
   ]
  },
  {
   "cell_type": "code",
   "execution_count": 98,
   "id": "dd627c0a",
   "metadata": {},
   "outputs": [],
   "source": [
    "## Calculate conversion rates for popup versions#\n",
    "\n",
    "## sum views and registrations\n",
    "reedsy_popup = reedsy_df.groupby('popup_version', as_index = False).agg({'views':sum, 'registrations':sum})\n",
    "\n",
    "## calculate conversion rate\n",
    "reedsy_popup[\"conversion_rate\"] = reedsy_popup.registrations / reedsy_popup.views"
   ]
  },
  {
   "cell_type": "code",
   "execution_count": 101,
   "id": "5a6d0fec",
   "metadata": {},
   "outputs": [],
   "source": [
    "## remove the null popup versions\n",
    "reedsy_popup = reedsy_popup.loc[reedsy_popup.popup_version != ''].copy()"
   ]
  },
  {
   "cell_type": "code",
   "execution_count": 102,
   "id": "8e253c56",
   "metadata": {},
   "outputs": [
    {
     "data": {
      "text/html": [
       "<style type=\"text/css\">\n",
       "</style>\n",
       "<table id=\"T_f8207\">\n",
       "  <thead>\n",
       "    <tr>\n",
       "      <th id=\"T_f8207_level0_col0\" class=\"col_heading level0 col0\" >popup_version</th>\n",
       "      <th id=\"T_f8207_level0_col1\" class=\"col_heading level0 col1\" >views</th>\n",
       "      <th id=\"T_f8207_level0_col2\" class=\"col_heading level0 col2\" >registrations</th>\n",
       "      <th id=\"T_f8207_level0_col3\" class=\"col_heading level0 col3\" >conversion_rate</th>\n",
       "    </tr>\n",
       "  </thead>\n",
       "  <tbody>\n",
       "    <tr>\n",
       "      <td id=\"T_f8207_row0_col0\" class=\"data row0 col0\" >A</td>\n",
       "      <td id=\"T_f8207_row0_col1\" class=\"data row0 col1\" >1,117,711</td>\n",
       "      <td id=\"T_f8207_row0_col2\" class=\"data row0 col2\" >15,834</td>\n",
       "      <td id=\"T_f8207_row0_col3\" class=\"data row0 col3\" >1.42%</td>\n",
       "    </tr>\n",
       "    <tr>\n",
       "      <td id=\"T_f8207_row1_col0\" class=\"data row1 col0\" >B</td>\n",
       "      <td id=\"T_f8207_row1_col1\" class=\"data row1 col1\" >1,200,549</td>\n",
       "      <td id=\"T_f8207_row1_col2\" class=\"data row1 col2\" >14,889</td>\n",
       "      <td id=\"T_f8207_row1_col3\" class=\"data row1 col3\" >1.24%</td>\n",
       "    </tr>\n",
       "  </tbody>\n",
       "</table>\n"
      ],
      "text/plain": [
       "<pandas.io.formats.style.Styler at 0x756e2d42b0>"
      ]
     },
     "execution_count": 102,
     "metadata": {},
     "output_type": "execute_result"
    }
   ],
   "source": [
    "reedsy_popup.style.format({\n",
    "    \"views\": \"{:,}\",\n",
    "    \"registrations\": \"{:,}\",\n",
    "    \"conversion_rate\": \"{:.2%}\"\n",
    "}).hide(axis=\"index\")"
   ]
  },
  {
   "cell_type": "markdown",
   "id": "0ee66b5f",
   "metadata": {},
   "source": [
    "Popup A was more performant"
   ]
  },
  {
   "cell_type": "code",
   "execution_count": null,
   "id": "3efe7d20",
   "metadata": {},
   "outputs": [],
   "source": []
  }
 ],
 "metadata": {
  "kernelspec": {
   "display_name": "VirtEnv1",
   "language": "python",
   "name": "virtenv1"
  },
  "language_info": {
   "codemirror_mode": {
    "name": "ipython",
    "version": 3
   },
   "file_extension": ".py",
   "mimetype": "text/x-python",
   "name": "python",
   "nbconvert_exporter": "python",
   "pygments_lexer": "ipython3",
   "version": "3.9.2"
  }
 },
 "nbformat": 4,
 "nbformat_minor": 5
}
