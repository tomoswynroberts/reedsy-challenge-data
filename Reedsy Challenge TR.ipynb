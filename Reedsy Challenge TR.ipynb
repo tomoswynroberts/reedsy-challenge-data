{
 "cells": [
  {
   "cell_type": "code",
   "execution_count": 139,
   "id": "786c419e",
   "metadata": {},
   "outputs": [],
   "source": [
    "import pandas as pd\n",
    "import os\n",
    "from ast import literal_eval"
   ]
  },
  {
   "cell_type": "code",
   "execution_count": 70,
   "id": "869197c8",
   "metadata": {},
   "outputs": [
    {
     "data": {
      "text/plain": [
       "'/home/tomoswynroberts/reedsy-challenge-data'"
      ]
     },
     "execution_count": 70,
     "metadata": {},
     "output_type": "execute_result"
    }
   ],
   "source": [
    "os.getcwd()"
   ]
  },
  {
   "cell_type": "code",
   "execution_count": 140,
   "id": "63c36bbd",
   "metadata": {},
   "outputs": [],
   "source": [
    "# adding literal_eval conversion to the concatenated column to read as list\n",
    "reedsy_df = pd.read_csv(\"data/dataset.tsv\", sep = '\\t' \\\n",
    "                        ,converters={'popup_version|start_date|popup_category': literal_eval})"
   ]
  },
  {
   "cell_type": "code",
   "execution_count": 141,
   "id": "53412f73",
   "metadata": {
    "scrolled": true
   },
   "outputs": [
    {
     "data": {
      "text/html": [
       "<div>\n",
       "<style scoped>\n",
       "    .dataframe tbody tr th:only-of-type {\n",
       "        vertical-align: middle;\n",
       "    }\n",
       "\n",
       "    .dataframe tbody tr th {\n",
       "        vertical-align: top;\n",
       "    }\n",
       "\n",
       "    .dataframe thead th {\n",
       "        text-align: right;\n",
       "    }\n",
       "</style>\n",
       "<table border=\"1\" class=\"dataframe\">\n",
       "  <thead>\n",
       "    <tr style=\"text-align: right;\">\n",
       "      <th></th>\n",
       "      <th>popup_name</th>\n",
       "      <th>blog_post_url</th>\n",
       "      <th>popup_version|start_date|popup_category</th>\n",
       "      <th>popup_header</th>\n",
       "      <th>popup_description</th>\n",
       "      <th>popup_image_url</th>\n",
       "      <th>popup_title</th>\n",
       "      <th>views</th>\n",
       "      <th>registrations</th>\n",
       "    </tr>\n",
       "  </thead>\n",
       "  <tbody>\n",
       "    <tr>\n",
       "      <th>0</th>\n",
       "      <td>Author Bio Template 2 (New Style)</td>\n",
       "      <td>https://blog.bookly.com/about-the-author-examp...</td>\n",
       "      <td>[A, 2020-05-01, Perfecting your Craft]</td>\n",
       "      <td>\\nFREE: Author Bio Template</td>\n",
       "      <td>Download a copy and write your bio in under 5 ...</td>\n",
       "      <td>https://d2ybmm5cpznb3i.cloudfront.net/wp-conte...</td>\n",
       "      <td>About the Author Examples (That You'll Actuall...</td>\n",
       "      <td>1554</td>\n",
       "      <td>70</td>\n",
       "    </tr>\n",
       "    <tr>\n",
       "      <th>1</th>\n",
       "      <td>Author Bio Template 2 (New Style)</td>\n",
       "      <td>https://blog.bookly.com/about-the-author-examp...</td>\n",
       "      <td>[A, 2020-06-05, Perfecting your Craft]</td>\n",
       "      <td>\\nFREE: Author Bio Template</td>\n",
       "      <td>Download a copy and write your bio in under 5 ...</td>\n",
       "      <td>https://d2ybmm5cpznb3i.cloudfront.net/wp-conte...</td>\n",
       "      <td>About the Author Examples (That You'll Actuall...</td>\n",
       "      <td>2667</td>\n",
       "      <td>126</td>\n",
       "    </tr>\n",
       "    <tr>\n",
       "      <th>2</th>\n",
       "      <td>Author Bio Template 2 (New Style)</td>\n",
       "      <td>https://blog.bookly.com/about-the-author-examp...</td>\n",
       "      <td>[A, 2020-05-01, Perfecting your Craft]</td>\n",
       "      <td>\\nFREE: Author Bio Template</td>\n",
       "      <td>Download a copy and write your bio in under 5 ...</td>\n",
       "      <td>https://d2ybmm5cpznb3i.cloudfront.net/wp-conte...</td>\n",
       "      <td>About the Author Examples (That You'll Actuall...</td>\n",
       "      <td>35</td>\n",
       "      <td>0</td>\n",
       "    </tr>\n",
       "    <tr>\n",
       "      <th>3</th>\n",
       "      <td>Author Bio Template 2 (New Style)</td>\n",
       "      <td>https://blog.bookly.com/author-bio/</td>\n",
       "      <td>[, 2020-05-27, Book Marketing, Understanding P...</td>\n",
       "      <td>\\nFREE: Author Bio Template</td>\n",
       "      <td>Download a copy and write your bio in under 5 ...</td>\n",
       "      <td>https://d2ybmm5cpznb3i.cloudfront.net/wp-conte...</td>\n",
       "      <td>How to Write a Memorable Author Bio (with Temp...</td>\n",
       "      <td>11907</td>\n",
       "      <td>882</td>\n",
       "    </tr>\n",
       "    <tr>\n",
       "      <th>4</th>\n",
       "      <td>Author Bio Template 2 (New Style)</td>\n",
       "      <td>https://blog.bookly.com/author-bio//</td>\n",
       "      <td>[, 2020-05-27, Book Marketing, Understanding P...</td>\n",
       "      <td>\\nFREE: Author Bio Template</td>\n",
       "      <td>Download a copy and write your bio in under 5 ...</td>\n",
       "      <td>https://d2ybmm5cpznb3i.cloudfront.net/wp-conte...</td>\n",
       "      <td>How to Write a Memorable Author Bio (with Temp...</td>\n",
       "      <td>70</td>\n",
       "      <td>0</td>\n",
       "    </tr>\n",
       "  </tbody>\n",
       "</table>\n",
       "</div>"
      ],
      "text/plain": [
       "                          popup_name  \\\n",
       "0  Author Bio Template 2 (New Style)   \n",
       "1  Author Bio Template 2 (New Style)   \n",
       "2  Author Bio Template 2 (New Style)   \n",
       "3  Author Bio Template 2 (New Style)   \n",
       "4  Author Bio Template 2 (New Style)   \n",
       "\n",
       "                                       blog_post_url  \\\n",
       "0  https://blog.bookly.com/about-the-author-examp...   \n",
       "1  https://blog.bookly.com/about-the-author-examp...   \n",
       "2  https://blog.bookly.com/about-the-author-examp...   \n",
       "3                https://blog.bookly.com/author-bio/   \n",
       "4               https://blog.bookly.com/author-bio//   \n",
       "\n",
       "             popup_version|start_date|popup_category  \\\n",
       "0             [A, 2020-05-01, Perfecting your Craft]   \n",
       "1             [A, 2020-06-05, Perfecting your Craft]   \n",
       "2             [A, 2020-05-01, Perfecting your Craft]   \n",
       "3  [, 2020-05-27, Book Marketing, Understanding P...   \n",
       "4  [, 2020-05-27, Book Marketing, Understanding P...   \n",
       "\n",
       "                  popup_header  \\\n",
       "0  \\nFREE: Author Bio Template   \n",
       "1  \\nFREE: Author Bio Template   \n",
       "2  \\nFREE: Author Bio Template   \n",
       "3  \\nFREE: Author Bio Template   \n",
       "4  \\nFREE: Author Bio Template   \n",
       "\n",
       "                                   popup_description  \\\n",
       "0  Download a copy and write your bio in under 5 ...   \n",
       "1  Download a copy and write your bio in under 5 ...   \n",
       "2  Download a copy and write your bio in under 5 ...   \n",
       "3  Download a copy and write your bio in under 5 ...   \n",
       "4  Download a copy and write your bio in under 5 ...   \n",
       "\n",
       "                                     popup_image_url  \\\n",
       "0  https://d2ybmm5cpznb3i.cloudfront.net/wp-conte...   \n",
       "1  https://d2ybmm5cpznb3i.cloudfront.net/wp-conte...   \n",
       "2  https://d2ybmm5cpznb3i.cloudfront.net/wp-conte...   \n",
       "3  https://d2ybmm5cpznb3i.cloudfront.net/wp-conte...   \n",
       "4  https://d2ybmm5cpznb3i.cloudfront.net/wp-conte...   \n",
       "\n",
       "                                         popup_title  views  registrations  \n",
       "0  About the Author Examples (That You'll Actuall...   1554             70  \n",
       "1  About the Author Examples (That You'll Actuall...   2667            126  \n",
       "2  About the Author Examples (That You'll Actuall...     35              0  \n",
       "3  How to Write a Memorable Author Bio (with Temp...  11907            882  \n",
       "4  How to Write a Memorable Author Bio (with Temp...     70              0  "
      ]
     },
     "execution_count": 141,
     "metadata": {},
     "output_type": "execute_result"
    }
   ],
   "source": [
    "reedsy_df.head()"
   ]
  },
  {
   "cell_type": "code",
   "execution_count": 106,
   "id": "bbe5b8e7",
   "metadata": {},
   "outputs": [
    {
     "data": {
      "text/plain": [
       "(2063, 9)"
      ]
     },
     "execution_count": 106,
     "metadata": {},
     "output_type": "execute_result"
    }
   ],
   "source": [
    "reedsy_df.shape"
   ]
  },
  {
   "cell_type": "code",
   "execution_count": 107,
   "id": "8b385a55",
   "metadata": {},
   "outputs": [
    {
     "data": {
      "text/plain": [
       "Index(['popup_name', 'blog_post_url',\n",
       "       'popup_version|start_date|popup_category', 'popup_header',\n",
       "       'popup_description', 'popup_image_url', 'popup_title', 'views',\n",
       "       'registrations'],\n",
       "      dtype='object')"
      ]
     },
     "execution_count": 107,
     "metadata": {},
     "output_type": "execute_result"
    }
   ],
   "source": [
    "reedsy_df.columns"
   ]
  },
  {
   "cell_type": "code",
   "execution_count": 108,
   "id": "f22ed082",
   "metadata": {},
   "outputs": [
    {
     "data": {
      "text/plain": [
       "popup_name                                 object\n",
       "blog_post_url                              object\n",
       "popup_version|start_date|popup_category    object\n",
       "popup_header                               object\n",
       "popup_description                          object\n",
       "popup_image_url                            object\n",
       "popup_title                                object\n",
       "views                                       int64\n",
       "registrations                               int64\n",
       "dtype: object"
      ]
     },
     "execution_count": 108,
     "metadata": {},
     "output_type": "execute_result"
    }
   ],
   "source": [
    "reedsy_df.dtypes"
   ]
  },
  {
   "cell_type": "code",
   "execution_count": 109,
   "id": "bf6dac0a",
   "metadata": {},
   "outputs": [
    {
     "data": {
      "text/html": [
       "<div>\n",
       "<style scoped>\n",
       "    .dataframe tbody tr th:only-of-type {\n",
       "        vertical-align: middle;\n",
       "    }\n",
       "\n",
       "    .dataframe tbody tr th {\n",
       "        vertical-align: top;\n",
       "    }\n",
       "\n",
       "    .dataframe thead th {\n",
       "        text-align: right;\n",
       "    }\n",
       "</style>\n",
       "<table border=\"1\" class=\"dataframe\">\n",
       "  <thead>\n",
       "    <tr style=\"text-align: right;\">\n",
       "      <th></th>\n",
       "      <th>views</th>\n",
       "      <th>registrations</th>\n",
       "    </tr>\n",
       "  </thead>\n",
       "  <tbody>\n",
       "    <tr>\n",
       "      <th>count</th>\n",
       "      <td>2063.000000</td>\n",
       "      <td>2063.000000</td>\n",
       "    </tr>\n",
       "    <tr>\n",
       "      <th>mean</th>\n",
       "      <td>1285.441590</td>\n",
       "      <td>22.991760</td>\n",
       "    </tr>\n",
       "    <tr>\n",
       "      <th>std</th>\n",
       "      <td>3486.148325</td>\n",
       "      <td>144.024029</td>\n",
       "    </tr>\n",
       "    <tr>\n",
       "      <th>min</th>\n",
       "      <td>21.000000</td>\n",
       "      <td>0.000000</td>\n",
       "    </tr>\n",
       "    <tr>\n",
       "      <th>25%</th>\n",
       "      <td>21.000000</td>\n",
       "      <td>0.000000</td>\n",
       "    </tr>\n",
       "    <tr>\n",
       "      <th>50%</th>\n",
       "      <td>91.000000</td>\n",
       "      <td>0.000000</td>\n",
       "    </tr>\n",
       "    <tr>\n",
       "      <th>75%</th>\n",
       "      <td>994.000000</td>\n",
       "      <td>21.000000</td>\n",
       "    </tr>\n",
       "    <tr>\n",
       "      <th>max</th>\n",
       "      <td>45101.000000</td>\n",
       "      <td>5397.000000</td>\n",
       "    </tr>\n",
       "  </tbody>\n",
       "</table>\n",
       "</div>"
      ],
      "text/plain": [
       "              views  registrations\n",
       "count   2063.000000    2063.000000\n",
       "mean    1285.441590      22.991760\n",
       "std     3486.148325     144.024029\n",
       "min       21.000000       0.000000\n",
       "25%       21.000000       0.000000\n",
       "50%       91.000000       0.000000\n",
       "75%      994.000000      21.000000\n",
       "max    45101.000000    5397.000000"
      ]
     },
     "execution_count": 109,
     "metadata": {},
     "output_type": "execute_result"
    }
   ],
   "source": [
    "reedsy_df.describe()"
   ]
  },
  {
   "cell_type": "code",
   "execution_count": 151,
   "id": "54e1fc51",
   "metadata": {},
   "outputs": [],
   "source": [
    "## Check contactenated column"
   ]
  },
  {
   "cell_type": "code",
   "execution_count": 152,
   "id": "942984f0",
   "metadata": {},
   "outputs": [
    {
     "data": {
      "text/plain": [
       "['A', '2020-05-01', 'Perfecting your Craft']"
      ]
     },
     "execution_count": 152,
     "metadata": {},
     "output_type": "execute_result"
    }
   ],
   "source": [
    "reedsy_df[\"popup_version|start_date|popup_category\"][0]"
   ]
  },
  {
   "cell_type": "code",
   "execution_count": 153,
   "id": "5af19ceb",
   "metadata": {},
   "outputs": [
    {
     "data": {
      "text/plain": [
       "['', '2020-05-27', 'Book Marketing, Understanding Publishing']"
      ]
     },
     "execution_count": 153,
     "metadata": {},
     "output_type": "execute_result"
    }
   ],
   "source": [
    "reedsy_df[\"popup_version|start_date|popup_category\"][3]"
   ]
  },
  {
   "cell_type": "code",
   "execution_count": 154,
   "id": "1e3e23ae",
   "metadata": {},
   "outputs": [],
   "source": [
    "reedsy_df[[\"popup_version\", \"start_date\" , \"popup_category\"]] = \\\n",
    "pd.DataFrame(reedsy_df[\"popup_version|start_date|popup_category\"].tolist(), index = reedsy_df.index)"
   ]
  },
  {
   "cell_type": "code",
   "execution_count": 155,
   "id": "4f937f63",
   "metadata": {},
   "outputs": [
    {
     "data": {
      "text/html": [
       "<div>\n",
       "<style scoped>\n",
       "    .dataframe tbody tr th:only-of-type {\n",
       "        vertical-align: middle;\n",
       "    }\n",
       "\n",
       "    .dataframe tbody tr th {\n",
       "        vertical-align: top;\n",
       "    }\n",
       "\n",
       "    .dataframe thead th {\n",
       "        text-align: right;\n",
       "    }\n",
       "</style>\n",
       "<table border=\"1\" class=\"dataframe\">\n",
       "  <thead>\n",
       "    <tr style=\"text-align: right;\">\n",
       "      <th></th>\n",
       "      <th>popup_name</th>\n",
       "      <th>blog_post_url</th>\n",
       "      <th>popup_version|start_date|popup_category</th>\n",
       "      <th>popup_header</th>\n",
       "      <th>popup_description</th>\n",
       "      <th>popup_image_url</th>\n",
       "      <th>popup_title</th>\n",
       "      <th>views</th>\n",
       "      <th>registrations</th>\n",
       "      <th>popup_version</th>\n",
       "      <th>start_date</th>\n",
       "      <th>popup_category</th>\n",
       "    </tr>\n",
       "  </thead>\n",
       "  <tbody>\n",
       "    <tr>\n",
       "      <th>0</th>\n",
       "      <td>Author Bio Template 2 (New Style)</td>\n",
       "      <td>https://blog.bookly.com/about-the-author-examp...</td>\n",
       "      <td>[A, 2020-05-01, Perfecting your Craft]</td>\n",
       "      <td>\\nFREE: Author Bio Template</td>\n",
       "      <td>Download a copy and write your bio in under 5 ...</td>\n",
       "      <td>https://d2ybmm5cpznb3i.cloudfront.net/wp-conte...</td>\n",
       "      <td>About the Author Examples (That You'll Actuall...</td>\n",
       "      <td>1554</td>\n",
       "      <td>70</td>\n",
       "      <td>A</td>\n",
       "      <td>2020-05-01</td>\n",
       "      <td>Perfecting your Craft</td>\n",
       "    </tr>\n",
       "    <tr>\n",
       "      <th>1</th>\n",
       "      <td>Author Bio Template 2 (New Style)</td>\n",
       "      <td>https://blog.bookly.com/about-the-author-examp...</td>\n",
       "      <td>[A, 2020-06-05, Perfecting your Craft]</td>\n",
       "      <td>\\nFREE: Author Bio Template</td>\n",
       "      <td>Download a copy and write your bio in under 5 ...</td>\n",
       "      <td>https://d2ybmm5cpznb3i.cloudfront.net/wp-conte...</td>\n",
       "      <td>About the Author Examples (That You'll Actuall...</td>\n",
       "      <td>2667</td>\n",
       "      <td>126</td>\n",
       "      <td>A</td>\n",
       "      <td>2020-06-05</td>\n",
       "      <td>Perfecting your Craft</td>\n",
       "    </tr>\n",
       "    <tr>\n",
       "      <th>2</th>\n",
       "      <td>Author Bio Template 2 (New Style)</td>\n",
       "      <td>https://blog.bookly.com/about-the-author-examp...</td>\n",
       "      <td>[A, 2020-05-01, Perfecting your Craft]</td>\n",
       "      <td>\\nFREE: Author Bio Template</td>\n",
       "      <td>Download a copy and write your bio in under 5 ...</td>\n",
       "      <td>https://d2ybmm5cpznb3i.cloudfront.net/wp-conte...</td>\n",
       "      <td>About the Author Examples (That You'll Actuall...</td>\n",
       "      <td>35</td>\n",
       "      <td>0</td>\n",
       "      <td>A</td>\n",
       "      <td>2020-05-01</td>\n",
       "      <td>Perfecting your Craft</td>\n",
       "    </tr>\n",
       "    <tr>\n",
       "      <th>3</th>\n",
       "      <td>Author Bio Template 2 (New Style)</td>\n",
       "      <td>https://blog.bookly.com/author-bio/</td>\n",
       "      <td>[, 2020-05-27, Book Marketing, Understanding P...</td>\n",
       "      <td>\\nFREE: Author Bio Template</td>\n",
       "      <td>Download a copy and write your bio in under 5 ...</td>\n",
       "      <td>https://d2ybmm5cpznb3i.cloudfront.net/wp-conte...</td>\n",
       "      <td>How to Write a Memorable Author Bio (with Temp...</td>\n",
       "      <td>11907</td>\n",
       "      <td>882</td>\n",
       "      <td></td>\n",
       "      <td>2020-05-27</td>\n",
       "      <td>Book Marketing, Understanding Publishing</td>\n",
       "    </tr>\n",
       "    <tr>\n",
       "      <th>4</th>\n",
       "      <td>Author Bio Template 2 (New Style)</td>\n",
       "      <td>https://blog.bookly.com/author-bio//</td>\n",
       "      <td>[, 2020-05-27, Book Marketing, Understanding P...</td>\n",
       "      <td>\\nFREE: Author Bio Template</td>\n",
       "      <td>Download a copy and write your bio in under 5 ...</td>\n",
       "      <td>https://d2ybmm5cpznb3i.cloudfront.net/wp-conte...</td>\n",
       "      <td>How to Write a Memorable Author Bio (with Temp...</td>\n",
       "      <td>70</td>\n",
       "      <td>0</td>\n",
       "      <td></td>\n",
       "      <td>2020-05-27</td>\n",
       "      <td>Book Marketing, Understanding Publishing</td>\n",
       "    </tr>\n",
       "  </tbody>\n",
       "</table>\n",
       "</div>"
      ],
      "text/plain": [
       "                          popup_name  \\\n",
       "0  Author Bio Template 2 (New Style)   \n",
       "1  Author Bio Template 2 (New Style)   \n",
       "2  Author Bio Template 2 (New Style)   \n",
       "3  Author Bio Template 2 (New Style)   \n",
       "4  Author Bio Template 2 (New Style)   \n",
       "\n",
       "                                       blog_post_url  \\\n",
       "0  https://blog.bookly.com/about-the-author-examp...   \n",
       "1  https://blog.bookly.com/about-the-author-examp...   \n",
       "2  https://blog.bookly.com/about-the-author-examp...   \n",
       "3                https://blog.bookly.com/author-bio/   \n",
       "4               https://blog.bookly.com/author-bio//   \n",
       "\n",
       "             popup_version|start_date|popup_category  \\\n",
       "0             [A, 2020-05-01, Perfecting your Craft]   \n",
       "1             [A, 2020-06-05, Perfecting your Craft]   \n",
       "2             [A, 2020-05-01, Perfecting your Craft]   \n",
       "3  [, 2020-05-27, Book Marketing, Understanding P...   \n",
       "4  [, 2020-05-27, Book Marketing, Understanding P...   \n",
       "\n",
       "                  popup_header  \\\n",
       "0  \\nFREE: Author Bio Template   \n",
       "1  \\nFREE: Author Bio Template   \n",
       "2  \\nFREE: Author Bio Template   \n",
       "3  \\nFREE: Author Bio Template   \n",
       "4  \\nFREE: Author Bio Template   \n",
       "\n",
       "                                   popup_description  \\\n",
       "0  Download a copy and write your bio in under 5 ...   \n",
       "1  Download a copy and write your bio in under 5 ...   \n",
       "2  Download a copy and write your bio in under 5 ...   \n",
       "3  Download a copy and write your bio in under 5 ...   \n",
       "4  Download a copy and write your bio in under 5 ...   \n",
       "\n",
       "                                     popup_image_url  \\\n",
       "0  https://d2ybmm5cpznb3i.cloudfront.net/wp-conte...   \n",
       "1  https://d2ybmm5cpznb3i.cloudfront.net/wp-conte...   \n",
       "2  https://d2ybmm5cpznb3i.cloudfront.net/wp-conte...   \n",
       "3  https://d2ybmm5cpznb3i.cloudfront.net/wp-conte...   \n",
       "4  https://d2ybmm5cpznb3i.cloudfront.net/wp-conte...   \n",
       "\n",
       "                                         popup_title  views  registrations  \\\n",
       "0  About the Author Examples (That You'll Actuall...   1554             70   \n",
       "1  About the Author Examples (That You'll Actuall...   2667            126   \n",
       "2  About the Author Examples (That You'll Actuall...     35              0   \n",
       "3  How to Write a Memorable Author Bio (with Temp...  11907            882   \n",
       "4  How to Write a Memorable Author Bio (with Temp...     70              0   \n",
       "\n",
       "  popup_version  start_date                            popup_category  \n",
       "0             A  2020-05-01                     Perfecting your Craft  \n",
       "1             A  2020-06-05                     Perfecting your Craft  \n",
       "2             A  2020-05-01                     Perfecting your Craft  \n",
       "3                2020-05-27  Book Marketing, Understanding Publishing  \n",
       "4                2020-05-27  Book Marketing, Understanding Publishing  "
      ]
     },
     "execution_count": 155,
     "metadata": {},
     "output_type": "execute_result"
    }
   ],
   "source": [
    "reedsy_df.head()"
   ]
  },
  {
   "cell_type": "code",
   "execution_count": 158,
   "id": "ab789bd4",
   "metadata": {},
   "outputs": [
    {
     "data": {
      "text/plain": [
       "popup_name                                                     Character Profile Checklist 3\n",
       "blog_post_url                              https://blog.bookly.com/protagonist-and-antago...\n",
       "popup_version|start_date|popup_category               [B, 2020-05-01, Perfecting your Craft]\n",
       "popup_header                                 \\nविनामूल्य डाउनलोडः कॅरेक्टर प्रोफाइल टेम्पलेट\n",
       "popup_description                          \\nबेस्ट सेलिंग लेखकाप्रमाणे आपली पात्रं विकसित...\n",
       "popup_image_url                            https://d2ybmm5cpznb3i.cloudfront.net/wp-conte...\n",
       "popup_title                                Protagonist and Antagonist: How Are They Diffe...\n",
       "views                                                                                     21\n",
       "registrations                                                                              0\n",
       "popup_version                                                                              B\n",
       "start_date                                                                        2020-05-01\n",
       "popup_category                                                         Perfecting your Craft\n",
       "Name: 195, dtype: object"
      ]
     },
     "execution_count": 158,
     "metadata": {},
     "output_type": "execute_result"
    }
   ],
   "source": [
    "reedsy_df.iloc[195]"
   ]
  }
 ],
 "metadata": {
  "kernelspec": {
   "display_name": "VirtEnv1",
   "language": "python",
   "name": "virtenv1"
  },
  "language_info": {
   "codemirror_mode": {
    "name": "ipython",
    "version": 3
   },
   "file_extension": ".py",
   "mimetype": "text/x-python",
   "name": "python",
   "nbconvert_exporter": "python",
   "pygments_lexer": "ipython3",
   "version": "3.9.2"
  }
 },
 "nbformat": 4,
 "nbformat_minor": 5
}
