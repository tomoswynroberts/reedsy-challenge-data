{
 "cells": [
  {
   "cell_type": "code",
   "execution_count": 8,
   "id": "034aa71b",
   "metadata": {},
   "outputs": [],
   "source": [
    "import pandas as pd\n",
    "import os"
   ]
  },
  {
   "cell_type": "code",
   "execution_count": 9,
   "id": "5df1a98f",
   "metadata": {},
   "outputs": [
    {
     "data": {
      "text/plain": [
       "'/home/tomoswynroberts/reedsy-challenge-data'"
      ]
     },
     "execution_count": 9,
     "metadata": {},
     "output_type": "execute_result"
    }
   ],
   "source": [
    "os.getcwd()"
   ]
  },
  {
   "cell_type": "code",
   "execution_count": 10,
   "id": "9b32cb6a",
   "metadata": {},
   "outputs": [],
   "source": [
    "reedsy_df = pd.read_csv(\"data/dataset.tsv\", sep = '\\t')"
   ]
  },
  {
   "cell_type": "code",
   "execution_count": 11,
   "id": "a15efc3a",
   "metadata": {},
   "outputs": [
    {
     "data": {
      "text/html": [
       "<div>\n",
       "<style scoped>\n",
       "    .dataframe tbody tr th:only-of-type {\n",
       "        vertical-align: middle;\n",
       "    }\n",
       "\n",
       "    .dataframe tbody tr th {\n",
       "        vertical-align: top;\n",
       "    }\n",
       "\n",
       "    .dataframe thead th {\n",
       "        text-align: right;\n",
       "    }\n",
       "</style>\n",
       "<table border=\"1\" class=\"dataframe\">\n",
       "  <thead>\n",
       "    <tr style=\"text-align: right;\">\n",
       "      <th></th>\n",
       "      <th>popup_name</th>\n",
       "      <th>blog_post_url</th>\n",
       "      <th>popup_version|start_date|popup_category</th>\n",
       "      <th>popup_header</th>\n",
       "      <th>popup_description</th>\n",
       "      <th>popup_image_url</th>\n",
       "      <th>popup_title</th>\n",
       "      <th>views</th>\n",
       "      <th>registrations</th>\n",
       "    </tr>\n",
       "  </thead>\n",
       "  <tbody>\n",
       "    <tr>\n",
       "      <th>0</th>\n",
       "      <td>Author Bio Template 2 (New Style)</td>\n",
       "      <td>https://blog.bookly.com/about-the-author-examp...</td>\n",
       "      <td>[\"A\",\"2020-05-01\",\"Perfecting your Craft\"]</td>\n",
       "      <td>\\nFREE: Author Bio Template</td>\n",
       "      <td>Download a copy and write your bio in under 5 ...</td>\n",
       "      <td>https://d2ybmm5cpznb3i.cloudfront.net/wp-conte...</td>\n",
       "      <td>About the Author Examples (That You'll Actuall...</td>\n",
       "      <td>1554</td>\n",
       "      <td>70</td>\n",
       "    </tr>\n",
       "    <tr>\n",
       "      <th>1</th>\n",
       "      <td>Author Bio Template 2 (New Style)</td>\n",
       "      <td>https://blog.bookly.com/about-the-author-examp...</td>\n",
       "      <td>[\"A\",\"2020-06-05\",\"Perfecting your Craft\"]</td>\n",
       "      <td>\\nFREE: Author Bio Template</td>\n",
       "      <td>Download a copy and write your bio in under 5 ...</td>\n",
       "      <td>https://d2ybmm5cpznb3i.cloudfront.net/wp-conte...</td>\n",
       "      <td>About the Author Examples (That You'll Actuall...</td>\n",
       "      <td>2667</td>\n",
       "      <td>126</td>\n",
       "    </tr>\n",
       "    <tr>\n",
       "      <th>2</th>\n",
       "      <td>Author Bio Template 2 (New Style)</td>\n",
       "      <td>https://blog.bookly.com/about-the-author-examp...</td>\n",
       "      <td>[\"A\",\"2020-05-01\",\"Perfecting your Craft\"]</td>\n",
       "      <td>\\nFREE: Author Bio Template</td>\n",
       "      <td>Download a copy and write your bio in under 5 ...</td>\n",
       "      <td>https://d2ybmm5cpznb3i.cloudfront.net/wp-conte...</td>\n",
       "      <td>About the Author Examples (That You'll Actuall...</td>\n",
       "      <td>35</td>\n",
       "      <td>0</td>\n",
       "    </tr>\n",
       "    <tr>\n",
       "      <th>3</th>\n",
       "      <td>Author Bio Template 2 (New Style)</td>\n",
       "      <td>https://blog.bookly.com/author-bio/</td>\n",
       "      <td>[\"\",\"2020-05-27\",\"Book Marketing, Understandin...</td>\n",
       "      <td>\\nFREE: Author Bio Template</td>\n",
       "      <td>Download a copy and write your bio in under 5 ...</td>\n",
       "      <td>https://d2ybmm5cpznb3i.cloudfront.net/wp-conte...</td>\n",
       "      <td>How to Write a Memorable Author Bio (with Temp...</td>\n",
       "      <td>11907</td>\n",
       "      <td>882</td>\n",
       "    </tr>\n",
       "    <tr>\n",
       "      <th>4</th>\n",
       "      <td>Author Bio Template 2 (New Style)</td>\n",
       "      <td>https://blog.bookly.com/author-bio//</td>\n",
       "      <td>[\"\",\"2020-05-27\",\"Book Marketing, Understandin...</td>\n",
       "      <td>\\nFREE: Author Bio Template</td>\n",
       "      <td>Download a copy and write your bio in under 5 ...</td>\n",
       "      <td>https://d2ybmm5cpznb3i.cloudfront.net/wp-conte...</td>\n",
       "      <td>How to Write a Memorable Author Bio (with Temp...</td>\n",
       "      <td>70</td>\n",
       "      <td>0</td>\n",
       "    </tr>\n",
       "  </tbody>\n",
       "</table>\n",
       "</div>"
      ],
      "text/plain": [
       "                          popup_name  \\\n",
       "0  Author Bio Template 2 (New Style)   \n",
       "1  Author Bio Template 2 (New Style)   \n",
       "2  Author Bio Template 2 (New Style)   \n",
       "3  Author Bio Template 2 (New Style)   \n",
       "4  Author Bio Template 2 (New Style)   \n",
       "\n",
       "                                       blog_post_url  \\\n",
       "0  https://blog.bookly.com/about-the-author-examp...   \n",
       "1  https://blog.bookly.com/about-the-author-examp...   \n",
       "2  https://blog.bookly.com/about-the-author-examp...   \n",
       "3                https://blog.bookly.com/author-bio/   \n",
       "4               https://blog.bookly.com/author-bio//   \n",
       "\n",
       "             popup_version|start_date|popup_category  \\\n",
       "0         [\"A\",\"2020-05-01\",\"Perfecting your Craft\"]   \n",
       "1         [\"A\",\"2020-06-05\",\"Perfecting your Craft\"]   \n",
       "2         [\"A\",\"2020-05-01\",\"Perfecting your Craft\"]   \n",
       "3  [\"\",\"2020-05-27\",\"Book Marketing, Understandin...   \n",
       "4  [\"\",\"2020-05-27\",\"Book Marketing, Understandin...   \n",
       "\n",
       "                  popup_header  \\\n",
       "0  \\nFREE: Author Bio Template   \n",
       "1  \\nFREE: Author Bio Template   \n",
       "2  \\nFREE: Author Bio Template   \n",
       "3  \\nFREE: Author Bio Template   \n",
       "4  \\nFREE: Author Bio Template   \n",
       "\n",
       "                                   popup_description  \\\n",
       "0  Download a copy and write your bio in under 5 ...   \n",
       "1  Download a copy and write your bio in under 5 ...   \n",
       "2  Download a copy and write your bio in under 5 ...   \n",
       "3  Download a copy and write your bio in under 5 ...   \n",
       "4  Download a copy and write your bio in under 5 ...   \n",
       "\n",
       "                                     popup_image_url  \\\n",
       "0  https://d2ybmm5cpznb3i.cloudfront.net/wp-conte...   \n",
       "1  https://d2ybmm5cpznb3i.cloudfront.net/wp-conte...   \n",
       "2  https://d2ybmm5cpznb3i.cloudfront.net/wp-conte...   \n",
       "3  https://d2ybmm5cpznb3i.cloudfront.net/wp-conte...   \n",
       "4  https://d2ybmm5cpznb3i.cloudfront.net/wp-conte...   \n",
       "\n",
       "                                         popup_title  views  registrations  \n",
       "0  About the Author Examples (That You'll Actuall...   1554             70  \n",
       "1  About the Author Examples (That You'll Actuall...   2667            126  \n",
       "2  About the Author Examples (That You'll Actuall...     35              0  \n",
       "3  How to Write a Memorable Author Bio (with Temp...  11907            882  \n",
       "4  How to Write a Memorable Author Bio (with Temp...     70              0  "
      ]
     },
     "execution_count": 11,
     "metadata": {},
     "output_type": "execute_result"
    }
   ],
   "source": [
    "reedsy_df.head()"
   ]
  },
  {
   "cell_type": "code",
   "execution_count": null,
   "id": "b38389a3",
   "metadata": {},
   "outputs": [],
   "source": []
  },
  {
   "cell_type": "code",
   "execution_count": null,
   "id": "69ade581",
   "metadata": {},
   "outputs": [],
   "source": []
  },
  {
   "cell_type": "code",
   "execution_count": null,
   "id": "df84ce97",
   "metadata": {},
   "outputs": [],
   "source": []
  },
  {
   "cell_type": "code",
   "execution_count": null,
   "id": "078d7879",
   "metadata": {},
   "outputs": [],
   "source": []
  },
  {
   "cell_type": "code",
   "execution_count": null,
   "id": "6597bae8",
   "metadata": {},
   "outputs": [],
   "source": []
  },
  {
   "cell_type": "code",
   "execution_count": null,
   "id": "50ff7d0a",
   "metadata": {},
   "outputs": [],
   "source": []
  }
 ],
 "metadata": {
  "kernelspec": {
   "display_name": "VirtEnv1",
   "language": "python",
   "name": "virtenv1"
  },
  "language_info": {
   "codemirror_mode": {
    "name": "ipython",
    "version": 3
   },
   "file_extension": ".py",
   "mimetype": "text/x-python",
   "name": "python",
   "nbconvert_exporter": "python",
   "pygments_lexer": "ipython3",
   "version": "3.9.2"
  }
 },
 "nbformat": 4,
 "nbformat_minor": 5
}
